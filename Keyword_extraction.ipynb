{
 "cells": [
  {
   "cell_type": "markdown",
   "metadata": {
    "id": "1P9PcDcVlkfM"
   },
   "source": [
    "**`Keyword`** **Extraction**"
   ]
  },
  {
   "cell_type": "code",
   "execution_count": 10,
   "metadata": {
    "id": "DQe5RprgyWnl"
   },
   "outputs": [],
   "source": [
    "import trafilatura\n",
    "array_links = [\n",
    "    \"https://en.wikipedia.org/wiki/Coronavirus_disease_2019\", \n",
    "    \"https://en.wikipedia.org/wiki/Recession\", \n",
    "    \"https://en.wikipedia.org/wiki/Vienna\", \n",
    "    \"https://en.wikipedia.org/wiki/Machine_learning\", \n",
    "    \"https://en.wikipedia.org/wiki/Graph_database\"\n",
    "]\n",
    "array_text = []\n",
    "for l in array_links:\n",
    "    html = trafilatura.fetch_url(l)\n",
    "    text = trafilatura.extract(html)\n",
    "    text_clean = text.replace(\"\\n\", \" \").replace(\"\\'\", \"\")\n",
    "    array_text.append(text_clean[0:5000])"
   ]
  },
  {
   "cell_type": "markdown",
   "metadata": {
    "id": "2V34evOQytoO"
   },
   "source": [
    "TextRank is an unsupervised method to perform keyword and sentence extraction. It is based on a graph where each node is a word and the edges are constructed by observing the co-occurrence of words inside a moving window of predefined size. Important nodes of the graph, computed with an algorithm similar to PageRank, represent keywords in the **text**"
   ]
  },
  {
   "cell_type": "code",
   "execution_count": 11,
   "metadata": {
    "colab": {
     "base_uri": "https://localhost:8080/"
    },
    "id": "dgH-_r0kygN0",
    "outputId": "7387e9b9-f716-4b00-f9e1-d6ca984ce4b3"
   },
   "outputs": [
    {
     "name": "stdout",
     "output_type": "stream",
     "text": [
      "Keywords of article 1 \n",
      " ['symptoms', 'covid', 'virus', 'syndrome', 'disease', 'diseases']\n",
      "Keywords of article 2 \n",
      " ['recession', 'recessions', 'economics', 'economic', 'shapes', 'shape', 'governments', 'government', 'policies', 'policy']\n",
      "Keywords of article 3 \n",
      " ['vienna', 'viennas', 'city', 'cities', 'citys', 'meaning', 'german', 'mi']\n",
      "Keywords of article 4 \n",
      " ['learns', 'learn', 'machine learning', 'algorithms', 'algorithm', 'machines', 'data', 'tasks', 'task']\n",
      "Keywords of article 5 \n",
      " ['databases', 'graph database', 'graphs', 'model', 'models', 'data', 'queries', 'querying', 'query']\n"
     ]
    }
   ],
   "source": [
    "from summa import keywords\n",
    "for j in range(len(array_text)):\n",
    "    print(\"Keywords of article\", str(j+1), \"\\n\", (keywords.keywords(array_text[j], words=5)).split(\"\\n\"))\n"
   ]
  },
  {
   "cell_type": "code",
   "execution_count": 15,
   "metadata": {
    "colab": {
     "base_uri": "https://localhost:8080/"
    },
    "id": "EI4rEhAZyo-O",
    "outputId": "9f8b3ac6-267c-41ee-87b0-a6aaf61499f0"
   },
   "outputs": [
    {
     "name": "stdout",
     "output_type": "stream",
     "text": [
      "Keywords of article 1 \n",
      " [('coronavirus', 0.5014), ('pneumonia', 0.4136), ('vaccines', 0.3631), ('viral', 0.3344), ('virus', 0.3269)]\n",
      "Keywords of article 2 \n",
      " [('recessions', 0.6407), ('recession', 0.5912), ('unemployment', 0.4474), ('pandemic', 0.4348), ('economics', 0.415)]\n",
      "Keywords of article 3 \n",
      " [('austrias', 0.4769), ('vienna', 0.4643), ('austria', 0.4596), ('viennas', 0.4398), ('beethoven', 0.4328)]\n",
      "Keywords of article 4 \n",
      " [('algorithms', 0.388), ('algorithm', 0.3033), ('programmers', 0.3023), ('computational', 0.2879), ('researchers', 0.2863)]\n",
      "Keywords of article 5 \n",
      " [('graphs', 0.4587), ('graph', 0.4219), ('databases', 0.3884), ('web', 0.3392), ('database', 0.325)]\n"
     ]
    }
   ],
   "source": [
    "from keybert import KeyBERT\n",
    "kw_extractor = KeyBERT('distilbert-base-nli-mean-tokens')\n",
    "for j in range(len(array_text)):\n",
    "    keywords = kw_extractor.extract_keywords(array_text[j], stop_words='english')\n",
    "    print(\"Keywords of article\", str(j+1), \"\\n\", keywords)"
   ]
  },
  {
   "cell_type": "markdown",
   "metadata": {
    "id": "UFnkguLs0mmf"
   },
   "source": [
    "Graph based keyword extraction\n",
    "TopicRank is another unsupervised graph-based keyphrase extractor. Different from TextRank, in this case, the nodes of the graph are topics and each topic is a cluster of similar single and multiword expressions."
   ]
  }
 ],
 "metadata": {
  "colab": {
   "name": "NLP.ipynb",
   "provenance": []
  },
  "kernelspec": {
   "display_name": "Python 3",
   "language": "python",
   "name": "python3"
  },
  "language_info": {
   "codemirror_mode": {
    "name": "ipython",
    "version": 3
   },
   "file_extension": ".py",
   "mimetype": "text/x-python",
   "name": "python",
   "nbconvert_exporter": "python",
   "pygments_lexer": "ipython3",
   "version": "3.7.6"
  }
 },
 "nbformat": 4,
 "nbformat_minor": 1
}
